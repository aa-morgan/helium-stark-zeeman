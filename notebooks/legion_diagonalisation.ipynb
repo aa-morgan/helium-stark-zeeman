{
 "cells": [
  {
   "cell_type": "code",
   "execution_count": 1,
   "metadata": {
    "collapsed": true
   },
   "outputs": [],
   "source": [
    "from hsz import Hamiltonian\n",
    "import numpy as np\n",
    "import os"
   ]
  },
  {
   "cell_type": "code",
   "execution_count": 2,
   "metadata": {
    "collapsed": true
   },
   "outputs": [],
   "source": [
    "#Parameters to set. Make sure there is no space between '=' sign, and an '_' before the variable name\n",
    "_n_min=20\n",
    "_n_max=21\n",
    "_S=1\n",
    "\n",
    "_Efield=0.0\n",
    "_field_angle=90.0\n",
    "_Bfield=0.1\n",
    "\n",
    "_matrices_dir='saved_matrices'"
   ]
  },
  {
   "cell_type": "code",
   "execution_count": 3,
   "metadata": {},
   "outputs": [
    {
     "name": "stderr",
     "output_type": "stream",
     "text": [
      "Calculating zeeman terms: 100%|██████████| 85/85 [00:00<00:00, 5574.57it/s]\n",
      "Calculating stark terms:   0%|          | 0/85 [00:00<?, ?it/s]"
     ]
    },
    {
     "name": "stdout",
     "output_type": "stream",
     "text": [
      "n_min=6, n_max=7, S=1\n",
      "Number of basis states: 85\n",
      "E=0.0, B=0.1, angle=90.0\n",
      "Saved 'zeeman' matrix from, \n",
      "\t ./saved_matrices/zeeman_n=6-7_L_max=None_S=1_M=None_M_max=None_basis=ml\n"
     ]
    },
    {
     "name": "stderr",
     "output_type": "stream",
     "text": [
      "Calculating stark terms: 100%|██████████| 85/85 [00:01<00:00, 47.39it/s]\n",
      "diagonalise Hamiltonian: 100%|██████████| 1/1 [00:00<00:00, 1272.16it/s]"
     ]
    },
    {
     "name": "stdout",
     "output_type": "stream",
     "text": [
      "Saved 'stark' matrix from, \n",
      "\t ./saved_matrices/stark_n=6-7_L_max=None_S=1_M=None_M_max=None_basis=ml_angle=90.0\n"
     ]
    },
    {
     "name": "stderr",
     "output_type": "stream",
     "text": [
      "\n"
     ]
    }
   ],
   "source": [
    "print(('n_min={}, n_max={}, S={}').format(_n_min, _n_max, _S))\n",
    "ham0 = Hamiltonian(n_min=_n_min, n_max=_n_max, S=_S)\n",
    "print('Number of basis states:', '%d'%ham0.num_states)\n",
    "\n",
    "Efield = np.linspace(_Efield, _Efield, 1) # V /cm\n",
    "print('E={}, B={}, angle={}'.format(_Efield, _Bfield, _field_angle))\n",
    "sm0 = ham0.stark_map(Efield*1e2, Bfield=_Bfield, \n",
    "                     field_angle=_field_angle, \n",
    "                     cache_matrices=False,\n",
    "                     load_matrices=True,\n",
    "                     save_matrices=True,\n",
    "                     matrices_dir=_matrices_dir)"
   ]
  },
  {
   "cell_type": "code",
   "execution_count": 7,
   "metadata": {},
   "outputs": [
    {
     "name": "stdout",
     "output_type": "stream",
     "text": [
      "Filepath=./saved_matrices/starkMap_n=6-7_L_max=None_S=1_M=None_M_max=None__E=0.0_B=0.1_angle=90.0.npz\n"
     ]
    }
   ],
   "source": [
    "# Save Stark Map\n",
    "filename_ham = ham0.filename()\n",
    "filename_fields = 'E={}_B={}_angle={}'.format(_Efield, _Bfield, _field_angle)\n",
    "filename_full = 'starkMap_{}__{}'.format(filename_ham, filename_fields)\n",
    "filepath = os.path.join('.', _matrices_dir, filename_full)\n",
    "if not os.path.isdir(os.path.join('.', _matrices_dir)):\n",
    "    os.mkdir(os.path.join('.', _matrices_dir))\n",
    "np.savez_compressed(filepath, matrix=sm0)\n",
    "print('Filepath={}.npz'.format(filepath))"
   ]
  },
  {
   "cell_type": "code",
   "execution_count": 1,
   "metadata": {
    "collapsed": true
   },
   "outputs": [],
   "source": [
    "%load_ext version_information"
   ]
  },
  {
   "cell_type": "code",
   "execution_count": 2,
   "metadata": {},
   "outputs": [
    {
     "data": {
      "application/json": {
       "Software versions": [
        {
         "module": "Python",
         "version": "3.6.1 64bit [GCC 4.2.1 Compatible Apple LLVM 6.0 (clang-600.0.57)]"
        },
        {
         "module": "IPython",
         "version": "5.3.0"
        },
        {
         "module": "OS",
         "version": "Darwin 17.4.0 x86_64 i386 64bit"
        },
        {
         "module": "scipy",
         "version": "1.0.0"
        },
        {
         "module": "numpy",
         "version": "1.14.3"
        },
        {
         "module": "sympy",
         "version": "1.0"
        },
        {
         "module": "numba",
         "version": "0.35.0"
        },
        {
         "module": "matplotlib",
         "version": "2.0.2"
        },
        {
         "module": "attr",
         "version": "17.4.0"
        },
        {
         "module": "tqdm",
         "version": "4.15.0"
        },
        {
         "module": "version_information",
         "version": "1.0.3"
        }
       ]
      },
      "text/html": [
       "<table><tr><th>Software</th><th>Version</th></tr><tr><td>Python</td><td>3.6.1 64bit [GCC 4.2.1 Compatible Apple LLVM 6.0 (clang-600.0.57)]</td></tr><tr><td>IPython</td><td>5.3.0</td></tr><tr><td>OS</td><td>Darwin 17.4.0 x86_64 i386 64bit</td></tr><tr><td>scipy</td><td>1.0.0</td></tr><tr><td>numpy</td><td>1.14.3</td></tr><tr><td>sympy</td><td>1.0</td></tr><tr><td>numba</td><td>0.35.0</td></tr><tr><td>matplotlib</td><td>2.0.2</td></tr><tr><td>attr</td><td>17.4.0</td></tr><tr><td>tqdm</td><td>4.15.0</td></tr><tr><td>version_information</td><td>1.0.3</td></tr><tr><td colspan='2'>Thu Jul 05 11:29:46 2018 BST</td></tr></table>"
      ],
      "text/latex": [
       "\\begin{tabular}{|l|l|}\\hline\n",
       "{\\bf Software} & {\\bf Version} \\\\ \\hline\\hline\n",
       "Python & 3.6.1 64bit [GCC 4.2.1 Compatible Apple LLVM 6.0 (clang-600.0.57)] \\\\ \\hline\n",
       "IPython & 5.3.0 \\\\ \\hline\n",
       "OS & Darwin 17.4.0 x86\\_64 i386 64bit \\\\ \\hline\n",
       "scipy & 1.0.0 \\\\ \\hline\n",
       "numpy & 1.14.3 \\\\ \\hline\n",
       "sympy & 1.0 \\\\ \\hline\n",
       "numba & 0.35.0 \\\\ \\hline\n",
       "matplotlib & 2.0.2 \\\\ \\hline\n",
       "attr & 17.4.0 \\\\ \\hline\n",
       "tqdm & 4.15.0 \\\\ \\hline\n",
       "version_information & 1.0.3 \\\\ \\hline\n",
       "\\hline \\multicolumn{2}{|l|}{Thu Jul 05 11:29:46 2018 BST} \\\\ \\hline\n",
       "\\end{tabular}\n"
      ],
      "text/plain": [
       "Software versions\n",
       "Python 3.6.1 64bit [GCC 4.2.1 Compatible Apple LLVM 6.0 (clang-600.0.57)]\n",
       "IPython 5.3.0\n",
       "OS Darwin 17.4.0 x86_64 i386 64bit\n",
       "scipy 1.0.0\n",
       "numpy 1.14.3\n",
       "sympy 1.0\n",
       "numba 0.35.0\n",
       "matplotlib 2.0.2\n",
       "attr 17.4.0\n",
       "tqdm 4.15.0\n",
       "version_information 1.0.3\n",
       "Thu Jul 05 11:29:46 2018 BST"
      ]
     },
     "execution_count": 2,
     "metadata": {},
     "output_type": "execute_result"
    }
   ],
   "source": [
    "%version_information scipy, numpy, sympy, numba, matplotlib, attr, tqdm ,version_information"
   ]
  },
  {
   "cell_type": "code",
   "execution_count": null,
   "metadata": {},
   "outputs": [],
   "source": []
  }
 ],
 "metadata": {
  "kernelspec": {
   "display_name": "Python 3",
   "language": "python",
   "name": "python3"
  },
  "language_info": {
   "codemirror_mode": {
    "name": "ipython",
    "version": 3
   },
   "file_extension": ".py",
   "mimetype": "text/x-python",
   "name": "python",
   "nbconvert_exporter": "python",
   "pygments_lexer": "ipython3",
   "version": "3.6.1"
  }
 },
 "nbformat": 4,
 "nbformat_minor": 2
}
